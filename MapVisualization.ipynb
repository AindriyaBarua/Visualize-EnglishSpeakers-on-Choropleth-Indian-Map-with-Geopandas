{
  "nbformat": 4,
  "nbformat_minor": 0,
  "metadata": {
    "kernelspec": {
      "display_name": "Python 3",
      "language": "python",
      "name": "python3"
    },
    "language_info": {
      "codemirror_mode": {
        "name": "ipython",
        "version": 3
      },
      "file_extension": ".py",
      "mimetype": "text/x-python",
      "name": "python",
      "nbconvert_exporter": "python",
      "pygments_lexer": "ipython3",
      "version": "3.7.5"
    },
    "colab": {
      "name": "MapVisualization.ipynb",
      "provenance": [],
      "collapsed_sections": []
    }
  },
  "cells": [
    {
      "cell_type": "code",
      "metadata": {
        "id": "CHjvqyW5vjg5",
        "colab": {
          "base_uri": "https://localhost:8080/"
        },
        "outputId": "3abee033-e242-4c2a-9d63-bcfe53dabeab"
      },
      "source": [
        "!pip install geopandas\n",
        "\n",
        "# required imports\n",
        "\n",
        "import xlrd\n",
        "import random\n",
        "import pandas as pd\n",
        "import seaborn as sns\n",
        "import geopandas as gpd\n",
        "import matplotlib.pyplot as plt\n",
        "\n",
        "sns.set_style('whitegrid')"
      ],
      "execution_count": 2,
      "outputs": [
        {
          "output_type": "stream",
          "name": "stdout",
          "text": [
            "Collecting geopandas\n",
            "  Downloading geopandas-0.10.0-py2.py3-none-any.whl (1.0 MB)\n",
            "\u001b[K     |████████████████████████████████| 1.0 MB 4.3 MB/s \n",
            "\u001b[?25hRequirement already satisfied: shapely>=1.6 in /usr/local/lib/python3.7/dist-packages (from geopandas) (1.7.1)\n",
            "Requirement already satisfied: pandas>=0.25.0 in /usr/local/lib/python3.7/dist-packages (from geopandas) (1.1.5)\n",
            "Collecting pyproj>=2.2.0\n",
            "  Downloading pyproj-3.2.1-cp37-cp37m-manylinux2010_x86_64.whl (6.3 MB)\n",
            "\u001b[K     |████████████████████████████████| 6.3 MB 41.4 MB/s \n",
            "\u001b[?25hCollecting fiona>=1.8\n",
            "  Downloading Fiona-1.8.20-cp37-cp37m-manylinux1_x86_64.whl (15.4 MB)\n",
            "\u001b[K     |████████████████████████████████| 15.4 MB 38 kB/s \n",
            "\u001b[?25hRequirement already satisfied: setuptools in /usr/local/lib/python3.7/dist-packages (from fiona>=1.8->geopandas) (57.4.0)\n",
            "Requirement already satisfied: attrs>=17 in /usr/local/lib/python3.7/dist-packages (from fiona>=1.8->geopandas) (21.2.0)\n",
            "Collecting cligj>=0.5\n",
            "  Downloading cligj-0.7.2-py3-none-any.whl (7.1 kB)\n",
            "Collecting click-plugins>=1.0\n",
            "  Downloading click_plugins-1.1.1-py2.py3-none-any.whl (7.5 kB)\n",
            "Requirement already satisfied: click>=4.0 in /usr/local/lib/python3.7/dist-packages (from fiona>=1.8->geopandas) (7.1.2)\n",
            "Collecting munch\n",
            "  Downloading munch-2.5.0-py2.py3-none-any.whl (10 kB)\n",
            "Requirement already satisfied: certifi in /usr/local/lib/python3.7/dist-packages (from fiona>=1.8->geopandas) (2021.5.30)\n",
            "Requirement already satisfied: six>=1.7 in /usr/local/lib/python3.7/dist-packages (from fiona>=1.8->geopandas) (1.15.0)\n",
            "Requirement already satisfied: numpy>=1.15.4 in /usr/local/lib/python3.7/dist-packages (from pandas>=0.25.0->geopandas) (1.19.5)\n",
            "Requirement already satisfied: pytz>=2017.2 in /usr/local/lib/python3.7/dist-packages (from pandas>=0.25.0->geopandas) (2018.9)\n",
            "Requirement already satisfied: python-dateutil>=2.7.3 in /usr/local/lib/python3.7/dist-packages (from pandas>=0.25.0->geopandas) (2.8.2)\n",
            "Installing collected packages: munch, cligj, click-plugins, pyproj, fiona, geopandas\n",
            "Successfully installed click-plugins-1.1.1 cligj-0.7.2 fiona-1.8.20 geopandas-0.10.0 munch-2.5.0 pyproj-3.2.1\n"
          ]
        }
      ]
    },
    {
      "cell_type": "code",
      "metadata": {
        "colab": {
          "base_uri": "https://localhost:8080/"
        },
        "id": "x3wdlVUnvjhB",
        "outputId": "b3eb15e1-1d81-49e6-cb4c-7eda21236533"
      },
      "source": [
        "# Read the first sheet from the Excel File\n",
        "\n",
        "file_name = 'statewise-eng.csv'\n",
        "csv_df = pd.read_csv(file_name)\n",
        "columns = csv_df.columns\n",
        "print(columns[0])"
      ],
      "execution_count": null,
      "outputs": [
        {
          "output_type": "stream",
          "name": "stdout",
          "text": [
            "State\n"
          ]
        }
      ]
    },
    {
      "cell_type": "code",
      "metadata": {
        "id": "ya5gavhgvjhC"
      },
      "source": [
        "states_csv = csv_df[columns[0]].tolist()\n",
        "know_english_csv = csv_df[columns[1]].tolist()"
      ],
      "execution_count": null,
      "outputs": []
    },
    {
      "cell_type": "code",
      "metadata": {
        "colab": {
          "base_uri": "https://localhost:8080/"
        },
        "id": "z_86ko36vjhH",
        "outputId": "87d5aec1-0551-417c-d5c4-80bfa605d5fc"
      },
      "source": [
        "# reading the state wise shapefile of India in a GeoDataFrame and preview it\n",
        "\n",
        "fp = \"Igismap/Indian_States.shp\"\n",
        "map_df = gpd.read_file(fp)\n",
        "states_and_ut = map_df['st_nm'].tolist()\n",
        "print(type(map_df))\n"
      ],
      "execution_count": null,
      "outputs": [
        {
          "output_type": "stream",
          "name": "stdout",
          "text": [
            "<class 'geopandas.geodataframe.GeoDataFrame'>\n"
          ]
        }
      ]
    },
    {
      "cell_type": "code",
      "metadata": {
        "colab": {
          "base_uri": "https://localhost:8080/",
          "height": 282
        },
        "id": "pOEYdneSvjhK",
        "outputId": "9738083a-d096-4cfb-d67a-707baf4ca34f"
      },
      "source": [
        "# Plot the default map\n",
        "\n",
        "map_df.plot()"
      ],
      "execution_count": null,
      "outputs": [
        {
          "output_type": "execute_result",
          "data": {
            "text/plain": [
              "<matplotlib.axes._subplots.AxesSubplot at 0x7fdbf224d890>"
            ]
          },
          "metadata": {},
          "execution_count": 95
        },
        {
          "output_type": "display_data",
          "data": {
            "image/png": "[encoded data removed]",
            "text/plain": [
              "<Figure size 432x288 with 1 Axes>"
            ]
          },
          "metadata": {}
        }
      ]
    },
    {
      "cell_type": "code",
      "metadata": {
        "colab": {
          "base_uri": "https://localhost:8080/",
          "height": 1000
        },
        "id": "8gipmUzHvjhL",
        "outputId": "f08d0a60-02ad-4b6f-9460-4260bc8f68a0"
      },
      "source": [
        "# Join both the DataFrames by state names\n",
        "\n",
        "merged = map_df.set_index('st_nm').join(csv_df.set_index('State'))\n",
        "merged"
      ],
      "execution_count": null,
      "outputs": [
        {
          "output_type": "execute_result",
          "data": {
            "text/html": [
              "<div>\n",
              "<style scoped>\n",
              "    .dataframe tbody tr th:only-of-type {\n",
              "        vertical-align: middle;\n",
              "    }\n",
              "\n",
              "    .dataframe tbody tr th {\n",
              "        vertical-align: top;\n",
              "    }\n",
              "\n",
              "    .dataframe thead th {\n",
              "        text-align: right;\n",
              "    }\n",
              "</style>\n",
              "<table border=\"1\" class=\"dataframe\">\n",
              "  <thead>\n",
              "    <tr style=\"text-align: right;\">\n",
              "      <th></th>\n",
              "      <th>geometry</th>\n",
              "      <th>Percent of responders who know english</th>\n",
              "    </tr>\n",
              "    <tr>\n",
              "      <th>st_nm</th>\n",
              "      <th></th>\n",
              "      <th></th>\n",
              "    </tr>\n",
              "  </thead>\n",
              "  <tbody>\n",
              "    <tr>\n",
              "      <th>Andaman &amp; Nicobar Island</th>\n",
              "      <td>MULTIPOLYGON (((93.71976 7.20707, 93.71909 7.2...</td>\n",
              "      <td>NaN</td>\n",
              "    </tr>\n",
              "    <tr>\n",
              "      <th>Arunanchal Pradesh</th>\n",
              "      <td>POLYGON ((96.16261 29.38078, 96.16860 29.37432...</td>\n",
              "      <td>NaN</td>\n",
              "    </tr>\n",
              "    <tr>\n",
              "      <th>Assam</th>\n",
              "      <td>MULTIPOLYGON (((89.74323 26.30362, 89.74290 26...</td>\n",
              "      <td>16.4</td>\n",
              "    </tr>\n",
              "    <tr>\n",
              "      <th>Bihar</th>\n",
              "      <td>MULTIPOLYGON (((84.50720 24.26323, 84.50355 24...</td>\n",
              "      <td>1.7</td>\n",
              "    </tr>\n",
              "    <tr>\n",
              "      <th>Chandigarh</th>\n",
              "      <td>POLYGON ((76.84147 30.75996, 76.83599 30.73623...</td>\n",
              "      <td>44.2</td>\n",
              "    </tr>\n",
              "    <tr>\n",
              "      <th>Chhattisgarh</th>\n",
              "      <td>POLYGON ((83.33532 24.09885, 83.35346 24.09627...</td>\n",
              "      <td>1.6</td>\n",
              "    </tr>\n",
              "    <tr>\n",
              "      <th>Dadara &amp; Nagar Havelli</th>\n",
              "      <td>POLYGON ((73.20657 20.12216, 73.20797 20.10650...</td>\n",
              "      <td>NaN</td>\n",
              "    </tr>\n",
              "    <tr>\n",
              "      <th>Daman &amp; Diu</th>\n",
              "      <td>MULTIPOLYGON (((72.89335 20.44539, 72.89281 20...</td>\n",
              "      <td>NaN</td>\n",
              "    </tr>\n",
              "    <tr>\n",
              "      <th>Goa</th>\n",
              "      <td>MULTIPOLYGON (((74.11918 14.75344, 74.11350 14...</td>\n",
              "      <td>31.4</td>\n",
              "    </tr>\n",
              "    <tr>\n",
              "      <th>Gujarat</th>\n",
              "      <td>MULTIPOLYGON (((71.70375 20.99958, 71.70375 20...</td>\n",
              "      <td>2.0</td>\n",
              "    </tr>\n",
              "    <tr>\n",
              "      <th>Haryana</th>\n",
              "      <td>POLYGON ((76.85065 30.87512, 76.86594 30.86691...</td>\n",
              "      <td>15.4</td>\n",
              "    </tr>\n",
              "    <tr>\n",
              "      <th>Himachal Pradesh</th>\n",
              "      <td>POLYGON ((76.79634 33.25490, 76.80351 33.25275...</td>\n",
              "      <td>6.5</td>\n",
              "    </tr>\n",
              "    <tr>\n",
              "      <th>Jammu &amp; Kashmir</th>\n",
              "      <td>POLYGON ((74.73451 37.02068, 74.73647 37.01937...</td>\n",
              "      <td>2.4</td>\n",
              "    </tr>\n",
              "    <tr>\n",
              "      <th>Jharkhand</th>\n",
              "      <td>POLYGON ((87.60582 25.31512, 87.61279 25.31184...</td>\n",
              "      <td>1.1</td>\n",
              "    </tr>\n",
              "    <tr>\n",
              "      <th>Karnataka</th>\n",
              "      <td>MULTIPOLYGON (((74.69694 13.32782, 74.69562 13...</td>\n",
              "      <td>4.3</td>\n",
              "    </tr>\n",
              "    <tr>\n",
              "      <th>Kerala</th>\n",
              "      <td>POLYGON ((74.99575 12.79227, 75.00006 12.78777...</td>\n",
              "      <td>8.9</td>\n",
              "    </tr>\n",
              "    <tr>\n",
              "      <th>Lakshadweep</th>\n",
              "      <td>MULTIPOLYGON (((74.10131 11.20431, 74.09908 11...</td>\n",
              "      <td>NaN</td>\n",
              "    </tr>\n",
              "    <tr>\n",
              "      <th>Madhya Pradesh</th>\n",
              "      <td>MULTIPOLYGON (((74.17932 22.39059, 74.17776 22...</td>\n",
              "      <td>2.2</td>\n",
              "    </tr>\n",
              "    <tr>\n",
              "      <th>Maharashtra</th>\n",
              "      <td>MULTIPOLYGON (((73.46270 16.03710, 73.46178 16...</td>\n",
              "      <td>9.9</td>\n",
              "    </tr>\n",
              "    <tr>\n",
              "      <th>Manipur</th>\n",
              "      <td>POLYGON ((94.57602 25.64221, 94.57487 25.63858...</td>\n",
              "      <td>NaN</td>\n",
              "    </tr>\n",
              "    <tr>\n",
              "      <th>Meghalaya</th>\n",
              "      <td>POLYGON ((91.85632 26.10353, 91.86717 26.09906...</td>\n",
              "      <td>30.6</td>\n",
              "    </tr>\n",
              "    <tr>\n",
              "      <th>Mizoram</th>\n",
              "      <td>POLYGON ((92.80022 24.41630, 92.80310 24.41603...</td>\n",
              "      <td>NaN</td>\n",
              "    </tr>\n",
              "    <tr>\n",
              "      <th>Nagaland</th>\n",
              "      <td>POLYGON ((95.21458 26.93095, 95.21719 26.92818...</td>\n",
              "      <td>NaN</td>\n",
              "    </tr>\n",
              "    <tr>\n",
              "      <th>NCT of Delhi</th>\n",
              "      <td>POLYGON ((77.09361 28.86940, 77.10973 28.86722...</td>\n",
              "      <td>38.3</td>\n",
              "    </tr>\n",
              "    <tr>\n",
              "      <th>Puducherry</th>\n",
              "      <td>MULTIPOLYGON (((79.76528 10.99681, 79.76963 10...</td>\n",
              "      <td>22.9</td>\n",
              "    </tr>\n",
              "    <tr>\n",
              "      <th>Punjab</th>\n",
              "      <td>POLYGON ((75.88469 32.48841, 75.90303 32.47169...</td>\n",
              "      <td>14.5</td>\n",
              "    </tr>\n",
              "    <tr>\n",
              "      <th>Rajasthan</th>\n",
              "      <td>POLYGON ((73.89849 29.97896, 73.90021 29.97140...</td>\n",
              "      <td>3.7</td>\n",
              "    </tr>\n",
              "    <tr>\n",
              "      <th>Sikkim</th>\n",
              "      <td>POLYGON ((88.65381 28.09883, 88.66265 28.08956...</td>\n",
              "      <td>17.1</td>\n",
              "    </tr>\n",
              "    <tr>\n",
              "      <th>Tamil Nadu</th>\n",
              "      <td>MULTIPOLYGON (((78.19188 8.72730, 78.18996 8.7...</td>\n",
              "      <td>10.4</td>\n",
              "    </tr>\n",
              "    <tr>\n",
              "      <th>Telangana</th>\n",
              "      <td>POLYGON ((81.05614 17.79097, 81.05834 17.75464...</td>\n",
              "      <td>6.4</td>\n",
              "    </tr>\n",
              "    <tr>\n",
              "      <th>Tripura</th>\n",
              "      <td>POLYGON ((92.22108 24.50131, 92.22771 24.49862...</td>\n",
              "      <td>12.6</td>\n",
              "    </tr>\n",
              "    <tr>\n",
              "      <th>Uttar Pradesh</th>\n",
              "      <td>MULTIPOLYGON (((80.44802 24.99631, 80.44080 24...</td>\n",
              "      <td>2.5</td>\n",
              "    </tr>\n",
              "    <tr>\n",
              "      <th>Uttarakhand</th>\n",
              "      <td>POLYGON ((79.21047 31.34846, 79.21386 31.34680...</td>\n",
              "      <td>23.3</td>\n",
              "    </tr>\n",
              "    <tr>\n",
              "      <th>West Bengal</th>\n",
              "      <td>MULTIPOLYGON (((88.01861 21.57278, 88.01889 21...</td>\n",
              "      <td>4.3</td>\n",
              "    </tr>\n",
              "    <tr>\n",
              "      <th>Odisha</th>\n",
              "      <td>MULTIPOLYGON (((86.38937 19.96351, 86.38840 19...</td>\n",
              "      <td>3.5</td>\n",
              "    </tr>\n",
              "    <tr>\n",
              "      <th>Andhra Pradesh</th>\n",
              "      <td>MULTIPOLYGON (((81.10380 17.82269, 81.10610 17...</td>\n",
              "      <td>2.9</td>\n",
              "    </tr>\n",
              "  </tbody>\n",
              "</table>\n",
              "</div>"
            ],
            "text/plain": [
              "                                                                   geometry  Percent of responders who know english\n",
              "st_nm                                                                                                              \n",
              "Andaman & Nicobar Island  MULTIPOLYGON (((93.71976 7.20707, 93.71909 7.2...                                     NaN\n",
              "Arunanchal Pradesh        POLYGON ((96.16261 29.38078, 96.16860 29.37432...                                     NaN\n",
              "Assam                     MULTIPOLYGON (((89.74323 26.30362, 89.74290 26...                                    16.4\n",
              "Bihar                     MULTIPOLYGON (((84.50720 24.26323, 84.50355 24...                                     1.7\n",
              "Chandigarh                POLYGON ((76.84147 30.75996, 76.83599 30.73623...                                    44.2\n",
              "Chhattisgarh              POLYGON ((83.33532 24.09885, 83.35346 24.09627...                                     1.6\n",
              "Dadara & Nagar Havelli    POLYGON ((73.20657 20.12216, 73.20797 20.10650...                                     NaN\n",
              "Daman & Diu               MULTIPOLYGON (((72.89335 20.44539, 72.89281 20...                                     NaN\n",
              "Goa                       MULTIPOLYGON (((74.11918 14.75344, 74.11350 14...                                    31.4\n",
              "Gujarat                   MULTIPOLYGON (((71.70375 20.99958, 71.70375 20...                                     2.0\n",
              "Haryana                   POLYGON ((76.85065 30.87512, 76.86594 30.86691...                                    15.4\n",
              "Himachal Pradesh          POLYGON ((76.79634 33.25490, 76.80351 33.25275...                                     6.5\n",
              "Jammu & Kashmir           POLYGON ((74.73451 37.02068, 74.73647 37.01937...                                     2.4\n",
              "Jharkhand                 POLYGON ((87.60582 25.31512, 87.61279 25.31184...                                     1.1\n",
              "Karnataka                 MULTIPOLYGON (((74.69694 13.32782, 74.69562 13...                                     4.3\n",
              "Kerala                    POLYGON ((74.99575 12.79227, 75.00006 12.78777...                                     8.9\n",
              "Lakshadweep               MULTIPOLYGON (((74.10131 11.20431, 74.09908 11...                                     NaN\n",
              "Madhya Pradesh            MULTIPOLYGON (((74.17932 22.39059, 74.17776 22...                                     2.2\n",
              "Maharashtra               MULTIPOLYGON (((73.46270 16.03710, 73.46178 16...                                     9.9\n",
              "Manipur                   POLYGON ((94.57602 25.64221, 94.57487 25.63858...                                     NaN\n",
              "Meghalaya                 POLYGON ((91.85632 26.10353, 91.86717 26.09906...                                    30.6\n",
              "Mizoram                   POLYGON ((92.80022 24.41630, 92.80310 24.41603...                                     NaN\n",
              "Nagaland                  POLYGON ((95.21458 26.93095, 95.21719 26.92818...                                     NaN\n",
              "NCT of Delhi              POLYGON ((77.09361 28.86940, 77.10973 28.86722...                                    38.3\n",
              "Puducherry                MULTIPOLYGON (((79.76528 10.99681, 79.76963 10...                                    22.9\n",
              "Punjab                    POLYGON ((75.88469 32.48841, 75.90303 32.47169...                                    14.5\n",
              "Rajasthan                 POLYGON ((73.89849 29.97896, 73.90021 29.97140...                                     3.7\n",
              "Sikkim                    POLYGON ((88.65381 28.09883, 88.66265 28.08956...                                    17.1\n",
              "Tamil Nadu                MULTIPOLYGON (((78.19188 8.72730, 78.18996 8.7...                                    10.4\n",
              "Telangana                 POLYGON ((81.05614 17.79097, 81.05834 17.75464...                                     6.4\n",
              "Tripura                   POLYGON ((92.22108 24.50131, 92.22771 24.49862...                                    12.6\n",
              "Uttar Pradesh             MULTIPOLYGON (((80.44802 24.99631, 80.44080 24...                                     2.5\n",
              "Uttarakhand               POLYGON ((79.21047 31.34846, 79.21386 31.34680...                                    23.3\n",
              "West Bengal               MULTIPOLYGON (((88.01861 21.57278, 88.01889 21...                                     4.3\n",
              "Odisha                    MULTIPOLYGON (((86.38937 19.96351, 86.38840 19...                                     3.5\n",
              "Andhra Pradesh            MULTIPOLYGON (((81.10380 17.82269, 81.10610 17...                                     2.9"
            ]
          },
          "metadata": {},
          "execution_count": 96
        }
      ]
    },
    {
      "cell_type": "code",
      "metadata": {
        "colab": {
          "base_uri": "https://localhost:8080/"
        },
        "id": "z8vMSQc9vjhN",
        "outputId": "74250f53-4502-4c39-ca86-35803d4533d2"
      },
      "source": [
        "# NA check\n",
        "\n",
        "merged.isna().sum()"
      ],
      "execution_count": null,
      "outputs": [
        {
          "output_type": "execute_result",
          "data": {
            "text/plain": [
              "geometry                                  0\n",
              "Percent of responders who know english    8\n",
              "dtype: int64"
            ]
          },
          "metadata": {},
          "execution_count": 97
        }
      ]
    },
    {
      "cell_type": "code",
      "metadata": {
        "colab": {
          "base_uri": "https://localhost:8080/",
          "height": 297
        },
        "id": "stB2udlBvjhO",
        "outputId": "e6801460-1404-40e9-99d2-ebf2ea6f3b0e"
      },
      "source": [
        "# Summary to get the max and min value\n",
        "\n",
        "merged.describe()"
      ],
      "execution_count": null,
      "outputs": [
        {
          "output_type": "execute_result",
          "data": {
            "text/html": [
              "<div>\n",
              "<style scoped>\n",
              "    .dataframe tbody tr th:only-of-type {\n",
              "        vertical-align: middle;\n",
              "    }\n",
              "\n",
              "    .dataframe tbody tr th {\n",
              "        vertical-align: top;\n",
              "    }\n",
              "\n",
              "    .dataframe thead th {\n",
              "        text-align: right;\n",
              "    }\n",
              "</style>\n",
              "<table border=\"1\" class=\"dataframe\">\n",
              "  <thead>\n",
              "    <tr style=\"text-align: right;\">\n",
              "      <th></th>\n",
              "      <th>Percent of responders who know english</th>\n",
              "    </tr>\n",
              "  </thead>\n",
              "  <tbody>\n",
              "    <tr>\n",
              "      <th>count</th>\n",
              "      <td>28.000000</td>\n",
              "    </tr>\n",
              "    <tr>\n",
              "      <th>mean</th>\n",
              "      <td>12.178571</td>\n",
              "    </tr>\n",
              "    <tr>\n",
              "      <th>std</th>\n",
              "      <td>12.006522</td>\n",
              "    </tr>\n",
              "    <tr>\n",
              "      <th>min</th>\n",
              "      <td>1.100000</td>\n",
              "    </tr>\n",
              "    <tr>\n",
              "      <th>25%</th>\n",
              "      <td>2.800000</td>\n",
              "    </tr>\n",
              "    <tr>\n",
              "      <th>50%</th>\n",
              "      <td>7.700000</td>\n",
              "    </tr>\n",
              "    <tr>\n",
              "      <th>75%</th>\n",
              "      <td>16.575000</td>\n",
              "    </tr>\n",
              "    <tr>\n",
              "      <th>max</th>\n",
              "      <td>44.200000</td>\n",
              "    </tr>\n",
              "  </tbody>\n",
              "</table>\n",
              "</div>"
            ],
            "text/plain": [
              "       Percent of responders who know english\n",
              "count                               28.000000\n",
              "mean                                12.178571\n",
              "std                                 12.006522\n",
              "min                                  1.100000\n",
              "25%                                  2.800000\n",
              "50%                                  7.700000\n",
              "75%                                 16.575000\n",
              "max                                 44.200000"
            ]
          },
          "metadata": {},
          "execution_count": 98
        }
      ]
    },
    {
      "cell_type": "code",
      "metadata": {
        "colab": {
          "base_uri": "https://localhost:8080/",
          "height": 392
        },
        "id": "aOxqCR1KvjhP",
        "outputId": "c22ae926-0a9b-4244-cc6e-64a628efd434"
      },
      "source": [
        "# create figure and axes for Matplotlib and set the title\n",
        "fig, ax = plt.subplots(1, figsize=(10, 6))\n",
        "ax.axis('off')\n",
        "ax.set_title('Percent of responders who know English', fontdict={'fontsize': '15', 'fontweight' : '3'})\n",
        "\n",
        "# plot the figure\n",
        "merged.plot(column='Percent of responders who know english', \n",
        "            cmap='YlOrRd', \n",
        "            linewidth=0.9, \n",
        "          ax=ax, edgecolor='0.7',\n",
        "          legend=True, missing_kwds={\n",
        "          \"color\": \"lightgrey\",\n",
        "          \"label\": \"Missing values\",\n",
        "    },)"
      ],
      "execution_count": null,
      "outputs": [
        {
          "output_type": "execute_result",
          "data": {
            "text/plain": [
              "<matplotlib.axes._subplots.AxesSubplot at 0x7fdbf19c9990>"
            ]
          },
          "metadata": {},
          "execution_count": 108
        },
        {
          "output_type": "display_data",
          "data": {
            "image/png": "[encoded data removed]",
            "text/plain": [
              "<Figure size 720x432 with 2 Axes>"
            ]
          },
          "metadata": {}
        }
      ]
    },
    {
      "cell_type": "code",
      "metadata": {
        "id": "2xvP3mXCvjhQ"
      },
      "source": [
        "# We save the output as a PNG image\n",
        "\n",
        "fig.savefig(\"State_wise_english.png\", dpi=100)"
      ],
      "execution_count": null,
      "outputs": []
    }
  ]
}